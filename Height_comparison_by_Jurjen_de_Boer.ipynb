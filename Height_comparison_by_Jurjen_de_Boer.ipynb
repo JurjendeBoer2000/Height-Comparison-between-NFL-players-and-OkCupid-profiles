{
 "cells": [
  {
   "cell_type": "markdown",
   "metadata": {},
   "source": [
    "# How does a given height compare to the heights of NBA players and the heights of OkCupid profiles?\n"
   ]
  },
  {
   "cell_type": "markdown",
   "metadata": {},
   "source": [
    "Using Matplotlib and standard deviations, let's make a program that visualizes how a given height (for example 72 inches) compares to the heights of NBA players and OkCupid profiles. The program will also calculate how many standard deviations the given height is away from the mean. Eventually the program is going to look like so:\n",
    "<img src=\"https://i.imgur.com/S1LVgP2.png\">\n",
    "Note: If you experience any error about a missing module Matplotlib when running the code, either it isn't installed on your device or Jupyter can't detect it. At the end of this notebook is the full code. Paste the full code in an environment where Matplotlib works for you."
   ]
  },
  {
   "cell_type": "markdown",
   "metadata": {},
   "source": [
    "## Importing some important modules\n",
    "We will be using two modules\n",
    "* Matplotlib,\n",
    "for visualizing the data using a histogram\n",
    "* NumPy,\n",
    "for performing calculations on the dataset"
   ]
  },
  {
   "cell_type": "code",
   "execution_count": 1,
   "metadata": {},
   "outputs": [],
   "source": [
    "import matplotlib.pyplot as plt\n",
    "import numpy as np"
   ]
  },
  {
   "cell_type": "markdown",
   "metadata": {},
   "source": [
    "## Importing the datasets\n",
    "Next, we need to import the datasets. These datasets are derived from Kaggle.\n",
    "Kaggle is a website on which you can find free datasets."
   ]
  },
  {
   "cell_type": "code",
   "execution_count": 2,
   "metadata": {},
   "outputs": [],
   "source": [
    "okcupid_data = [75.0, 70.0, 68.0, 71.0, 66.0, 67.0, 65.0, 65.0, 67.0, 65.0, 70.0, 72.0, 72.0, 66.0, 62.0, 65.0, 70.0, 64.0, 71.0, 72.0, 67.0, 67.0, 69.0, 71.0, 73.0, 70.0, 72.0, 67.0, 74.0, 68.0, 64.0, 72.0, 67.0, 60.0, 69.0, 69.0, 69.0, 69.0, 63.0, 74.0, 76.0, 72.0, 75.0, 71.0, 66.0, 69.0, 73.0, 70.0, 67.0, 66.0, 66.0, 65.0, 69.0, 69.0, 69.0, 70.0, 71.0, 72.0, 70.0, 71.0, 67.0, 75.0, 70.0, 67.0, 72.0, 68.0, 65.0, 66.0, 69.0, 76.0, 62.0, 67.0, 73.0, 61.0, 72.0, 67.0, 72.0, 65.0, 67.0, 71.0, 67.0, 69.0, 69.0, 64.0, 73.0, 68.0, 66.0, 61.0, 71.0, 64.0, 74.0, 74.0, 67.0, 69.0, 67.0, 78.0, 75.0, 70.0, 66.0, 72.0, 71.0, 68.0, 69.0, 70.0, 63.0, 65.0, 64.0, 72.0, 64.0, 66.0, 68.0, 71.0, 74.0, 66.0, 70.0, 72.0, 68.0, 67.0, 65.0, 66.0, 71.0, 75.0, 66.0, 70.0, 62.0, 68.0, 73.0, 68.0, 71.0, 66.0, 69.0, 68.0, 68.0, 68.0, 68.0, 67.0, 75.0, 73.0, 67.0, 73.0, 62.0, 73.0, 73.0, 74.0, 63.0, 67.0, 70.0, 66.0, 64.0, 67.0, 63.0, 68.0, 68.0, 75.0, 73.0, 61.0, 62.0, 68.0, 69.0, 63.0, 62.0, 66.0, 66.0, 66.0, 72.0, 74.0, 72.0, 63.0, 68.0, 66.0, 66.0, 70.0, 73.0, 63.0, 69.0, 66.0, 68.0, 72.0, 68.0, 71.0, 69.0, 66.0, 68.0, 70.0, 74.0, 63.0, 66.0, 60.0, 67.0, 79.0, 61.0, 69.0, 69.0, 67.0, 71.0, 63.0, 67.0, 63.0, 64.0, 62.0, 65.0, 67.0, 66.0, 63.0, 63.0, 69.0, 71.0, 69.0, 67.0, 66.0, 62.0, 72.0, 69.0, 69.0, 59.0, 74.0, 70.0, 65.0, 70.0, 66.0, 70.0, 64.0, 69.0, 63.0, 62.0, 68.0, 71.0, 71.0, 69.0, 70.0, 72.0, 66.0, 65.0, 65.0, 68.0, 68.0, 62.0, 72.0, 63.0, 73.0, 67.0, 65.0, 69.0, 80.0, 61.0, 63.0, 73.0, 63.0, 71.0, 62.0, 68.0, 72.0, 65.0, 67.0, 67.0, 68.0, 67.0, 67.0, 62.0, 63.0, 64.0, 72.0, 62.0, 66.0, 67.0, 62.0, 69.0, 69.0, 64.0, 62.0, 70.0, 64.0, 63.0, 67.0, 68.0, 67.0, 65.0, 67.0, 64.0, 71.0, 80.0, 60.0, 71.0, 69.0, 67.0, 64.0, 62.0, 63.0, 61.0, 69.0, 76.0, 70.0, 72.0, 63.0, 69.0, 72.0, 70.0, 73.0, 62.0, 62.0, 72.0, 66.0, 65.0, 70.0, 71.0, 71.0, 64.0, 63.0, 75.0, 70.0, 73.0, 68.0, 69.0, 64.0, 68.0, 68.0, 74.0, 61.0, 66.0, 62.0, 67.0, 72.0, 67.0, 64.0, 68.0, 63.0, 69.0, 68.0, 65.0, 66.0, 62.0, 72.0, 70.0, 69.0, 64.0, 63.0, 60.0, 65.0, 67.0, 72.0, 71.0, 73.0, 68.0, 62.0, 69.0, 71.0, 66.0, 72.0, 68.0, 73.0, 67.0, 75.0, 74.0, 74.0, 68.0, 64.0, 75.0, 63.0, 65.0, 72.0, 68.0, 69.0, 73.0, 70.0, 69.0, 73.0, 69.0, 71.0, 73.0, 63.0, 67.0, 64.0, 71.0, 72.0, 74.0, 72.0, 71.0, 64.0, 66.0, 74.0, 68.0, 70.0, 68.0, 76.0, 72.0, 70.0, 67.0, 64.0, 68.0, 66.0, 69.0, 72.0, 61.0, 74.0, 64.0, 66.0, 73.0, 76.0, 71.0, 69.0, 71.0, 71.0, 91.0, 74.0, 62.0, 67.0, 62.0, 71.0, 70.0, 72.0, 72.0, 64.0, 72.0, 68.0, 68.0, 71.0, 66.0, 67.0, 68.0, 61.0, 73.0, 71.0, 71.0, 64.0, 72.0, 67.0, 65.0, 74.0, 68.0, 61.0, 71.0, 67.0, 65.0, 79.0, 61.0, 66.0, 76.0, 69.0, 70.0, 65.0, 72.0, 71.0, 71.0, 62.0, 70.0, 72.0, 70.0, 69.0, 71.0, 70.0, 65.0, 64.0, 68.0, 68.0, 67.0, 64.0, 72.0, 61.0, 64.0, 72.0, 64.0, 70.0, 63.0, 72.0, 66.0, 65.0, 64.0, 65.0, 64.0, 64.0, 63.0, 63.0, 66.0, 70.0, 70.0, 67.0, 70.0, 68.0, 73.0, 64.0, 64.0, 71.0, 71.0, 62.0, 67.0, 67.0, 70.0, 66.0, 72.0, 70.0, 72.0, 66.0, 63.0, 70.0, 71.0, 68.0, 64.0, 70.0, 68.0, 69.0, 74.0, 72.0, 75.0, 65.0, 73.0, 69.0, 62.0, 64.0, 68.0, 70.0, 67.0, 72.0, 69.0, 68.0, 71.0, 72.0, 68.0, 72.0, 75.0, 67.0, 68.0, 67.0, 73.0, 72.0, 76.0, 68.0, 72.0, 67.0, 66.0, 71.0, 69.0, 64.0, 75.0, 69.0, 67.0, 70.0, 71.0, 74.0, 69.0, 68.0, 60.0, 68.0, 70.0, 70.0, 60.0, 67.0, 83.0, 70.0, 59.0, 71.0, 77.0, 69.0, 76.0, 71.0, 68.0, 70.0, 70.0, 62.0, 70.0, 66.0, 72.0, 73.0, 68.0, 72.0, 66.0, 70.0, 68.0, 76.0, 67.0, 68.0, 74.0, 67.0, 60.0, 70.0, 63.0, 68.0, 71.0, 73.0, 72.0, 68.0, 77.0, 73.0, 68.0, 66.0, 65.0, 69.0, 71.0, 61.0, 68.0, 63.0, 63.0, 72.0, 66.0, 64.0, 63.0, 68.0, 69.0, 67.0, 63.0, 74.0, 68.0, 67.0, 67.0, 63.0, 64.0, 67.0, 72.0, 72.0, 65.0, 68.0, 69.0, 69.0, 74.0, 73.0, 72.0, 63.0, 68.0, 68.0, 75.0, 73.0, 68.0, 67.0, 73.0, 64.0, 71.0, 64.0, 63.0, 71.0, 64.0, 74.0, 69.0, 73.0, 71.0, 73.0, 74.0, 68.0, 64.0, 65.0, 74.0, 64.0, 70.0, 75.0, 61.0, 70.0, 70.0, 63.0, 71.0, 62.0, 70.0, 69.0, 68.0, 71.0, 61.0, 69.0, 68.0, 71.0, 71.0, 72.0, 69.0, 66.0, 70.0, 70.0, 73.0, 73.0, 69.0, 67.0, 69.0, 68.0, 67.0, 70.0, 70.0, 62.0, 64.0, 69.0, 68.0, 68.0, 70.0, 68.0, 67.0, 63.0, 66.0, 70.0, 72.0, 70.0, 75.0, 71.0, 63.0, 71.0, 72.0, 76.0, 68.0, 70.0, 73.0, 70.0, 68.0, 67.0, 69.0, 72.0, 74.0, 64.0, 63.0, 67.0, 67.0, 72.0, 74.0, 72.0, 65.0, 62.0, 69.0, 73.0, 70.0, 67.0, 69.0, 72.0, 74.0, 67.0, 72.0, 70.0, 64.0, 74.0, 73.0, 65.0, 70.0, 64.0, 62.0, 64.0, 67.0, 74.0, 67.0, 68.0, 64.0, 73.0, 66.0, 72.0, 69.0, 62.0, 69.0, 75.0, 68.0, 64.0, 70.0, 69.0, 76.0, 73.0, 60.0, 70.0, 64.0, 64.0, 71.0, 68.0, 70.0, 71.0, 69.0, 68.0, 64.0, 72.0, 73.0, 69.0, 69.0, 67.0, 65.0, 69.0, 69.0, 72.0, 68.0, 74.0, 75.0, 68.0, 73.0, 60.0, 73.0, 69.0, 70.0, 68.0, 71.0, 72.0, 71.0, 74.0, 68.0, 68.0, 70.0, 60.0, 70.0, 74.0, 68.0, 72.0, 71.0, 69.0, 69.0, 64.0, 65.0, 76.0, 74.0, 70.0, 70.0, 73.0, 63.0, 71.0, 66.0, 74.0, 69.0, 67.0, 64.0, 73.0, 69.0, 68.0, 72.0, 68.0, 68.0, 68.0, 64.0, 66.0, 64.0, 72.0, 70.0, 65.0, 67.0, 73.0, 76.0, 68.0, 70.0, 71.0, 68.0, 70.0, 72.0, 74.0, 67.0, 70.0, 71.0, 72.0, 68.0, 71.0, 72.0, 70.0, 65.0, 72.0, 68.0, 72.0, 63.0, 69.0, 75.0, 66.0, 72.0, 70.0, 74.0, 72.0, 68.0, 69.0, 65.0, 71.0, 64.0, 72.0, 70.0, 70.0, 69.0, 67.0, 64.0, 68.0, 73.0, 66.0, 61.0, 76.0, 75.0, 72.0, 70.0, 66.0, 69.0, 63.0, 66.0, 68.0, 73.0, 73.0, 64.0, 68.0, 68.0, 67.0, 67.0, 70.0, 63.0, 72.0, 72.0, 67.0, 66.0, 63.0, 73.0, 65.0, 76.0, 66.0, 74.0, 65.0, 71.0, 68.0, 70.0, 62.0, 65.0, 67.0, 64.0, 62.0, 66.0, 70.0, 66.0, 67.0, 72.0, 67.0, 73.0, 65.0, 72.0, 66.0, 67.0, 58.0, 62.0, 69.0, 72.0, 67.0, 70.0, 64.0, 70.0, 66.0, 70.0, 64.0, 70.0, 66.0, 69.0, 73.0, 65.0, 66.0, 72.0, 66.0, 61.0, 67.0, 74.0, 64.0, 74.0, 67.0, 68.0, 70.0, 65.0, 71.0, 64.0, 67.0, 64.0, 66.0, 71.0, 67.0, 73.0, 66.0, 74.0, 67.0, 66.0, 71.0, 69.0, 71.0, 68.0, 61.0, 75.0, 66.0, 74.0, 69.0, 62.0, 65.0, 60.0, 74.0, 68.0, 64.0, 73.0, 64.0, 67.0, 73.0, 66.0, 60.0, 70.0, 69.0, 67.0, 72.0, 71.0, 65.0, 72.0, 65.0, 71.0, 66.0, 69.0, 66.0, 74.0, 73.0, 64.0, 64.0, 70.0, 66.0, 74.0, 66.0, 66.0, 68.0, 61.0, 68.0, 72.0, 72.0, 67.0, 59.0, 68.0, 65.0]\n",
    "\n",
    "nba_data = [82.0, 81.0, 86.0, 73.0, 78.0, 81.0, 79.0, 75.0, 75.0, 78.0, 77.0, 72.0, 83.0, 78.0, 79.0, 81.0, 78.0, 77.0, 76.0, 77.0, 70.0, 84.0, 79.0, 82.0, 73.0, 79.0, 77.0, 77.0, 78.0, 74.0, 76.0, 79.0, 86.0, 82.0, 71.0, 85.0, 80.0, 81.0, 82.0, 83.0, 83.0, 83.0, 80.0, 73.0, 77.0, 79.0, 80.0, 81.0, 74.0, 80.0, 81.0, 82.0, 76.0, 75.0, 81.0, 74.0, 82.0, 80.0, 77.0, 76.0, 78.0, 78.0, 83.0, 81.0, 78.0, 83.0, 74.0, 82.0, 82.0, 80.0, 81.0, 81.0, 75.0, 82.0, 83.0, 78.0, 74.0, 78.0, 74.0, 82.0, 74.0, 77.0, 75.0, 81.0, 82.0, 80.0, 78.0, 77.0, 78.0, 72.0, 79.0, 81.0, 71.0, 78.0, 82.0, 79.0, 82.0, 78.0, 79.0, 79.0, 86.0, 79.0, 82.0, 79.0, 84.0, 83.0, 79.0, 80.0, 72.0, 81.0, 83.0, 80.0, 73.0, 83.0, 76.0, 83.0, 73.0, 75.0, 80.0, 75.0, 80.0, 76.0, 81.0, 74.0, 80.0, 77.0, 71.0, 72.0, 83.0, 75.0, 77.0, 74.0, 77.0, 74.0, 81.0, 76.0, 79.0, 84.0, 78.0, 79.0, 74.0, 74.0, 71.0, 72.0, 70.0, 80.0, 72.0, 82.0, 82.0, 72.0, 81.0, 81.0, 73.0, 74.0, 82.0, 82.0, 81.0, 77.0, 77.0, 81.0, 84.0, 74.0, 78.0, 75.0, 76.0, 85.0, 72.0, 84.0, 77.0, 81.0, 83.0, 78.0, 81.0, 81.0, 73.0, 73.0, 72.0, 76.0, 83.0, 76.0, 80.0, 80.0, 78.0, 79.0, 76.0, 79.0, 74.0, 82.0, 81.0, 81.0, 78.0, 75.0, 77.0, 72.0, 84.0, 74.0, 83.0, 78.0, 73.0, 78.0, 80.0, 75.0, 80.0, 80.0, 79.0, 76.0, 76.0, 75.0, 73.0, 76.0, 76.0, 75.0, 75.0, 76.0, 70.0, 75.0, 74.0, 84.0, 71.0, 78.0, 77.0, 76.0, 79.0, 77.0, 84.0, 78.0, 77.0, 79.0, 80.0, 80.0, 81.0, 83.0, 76.0, 82.0, 80.0, 83.0, 80.0, 74.0, 78.0, 82.0, 76.0, 80.0, 77.0, 70.0, 80.0, 75.0, 77.0, 78.0, 82.0, 74.0, 77.0, 75.0, 77.0, 81.0, 75.0, 70.0, 77.0, 82.0, 81.0, 77.0, 81.0, 81.0, 72.0, 81.0, 73.0, 76.0, 79.0, 73.0, 79.0, 84.0, 78.0, 81.0, 79.0, 77.0, 75.0, 77.0, 81.0, 77.0, 73.0, 72.0, 83.0, 78.0, 75.0, 76.0, 85.0, 83.0, 80.0, 84.0, 78.0, 80.0, 72.0, 78.0, 79.0, 75.0, 72.0, 79.0, 80.0, 83.0, 82.0, 81.0, 71.0, 80.0, 80.0, 80.0, 80.0, 82.0, 71.0, 71.0, 73.0, 89.0, 74.0, 75.0, 71.0, 73.0, 73.0, 73.0, 83.0, 79.0, 79.0, 81.0, 75.0, 75.0, 80.0, 81.0, 78.0, 78.0, 81.0, 75.0, 75.0, 81.0, 82.0, 85.0, 77.0, 77.0, 81.0, 82.0, 78.0, 78.0, 78.0, 72.0, 76.0, 79.0, 75.0, 76.0, 72.0, 73.0, 76.0, 79.0, 83.0, 72.0, 73.0, 74.0, 81.0, 78.0, 81.0, 84.0, 76.0, 76.0, 72.0, 76.0, 76.0, 84.0, 77.0, 78.0, 80.0, 63.0, 84.0, 81.0, 91.0, 77.0, 81.0, 76.0, 80.0, 74.0, 77.0, 76.0, 77.0, 80.0, 82.0, 82.0, 78.0, 73.0, 80.0, 82.0, 74.0, 83.0, 78.0, 80.0, 81.0, 84.0, 77.0, 80.0, 80.0, 77.0, 83.0, 79.0, 80.0, 81.0, 84.0, 76.0, 82.0, 79.0, 79.0, 80.0, 78.0, 85.0, 82.0, 77.0, 82.0, 77.0, 73.0, 74.0, 77.0, 65.0, 82.0, 78.0, 78.0, 73.0, 82.0, 80.0, 78.0, 78.0, 74.0, 71.0, 77.0, 77.0, 78.0, 80.0, 75.0, 82.0, 90.0, 83.0, 82.0, 80.0, 80.0, 82.0, 79.0, 80.0, 71.0, 77.0, 82.0, 79.0, 73.0, 74.0, 77.0, 79.0, 74.0, 78.0, 75.0, 87.0, 81.0, 76.0, 81.0, 76.0, 79.0, 86.0, 73.0, 81.0, 77.0, 78.0, 74.0, 76.0, 77.0, 79.0, 76.0, 74.0, 84.0, 76.0, 79.0, 76.0, 77.0, 76.0, 76.0, 76.0, 72.0, 78.0, 78.0, 77.0, 79.0, 71.0, 81.0, 79.0, 76.0, 74.0, 79.0, 81.0, 74.0, 73.0, 72.0, 79.0, 77.0, 84.0, 75.0, 78.0, 76.0, 72.0, 76.0, 79.0, 79.0, 79.0, 83.0, 69.0, 75.0, 83.0, 77.0, 75.0, 75.0, 81.0, 75.0, 83.0, 74.0, 80.0, 82.0, 77.0, 83.0, 76.0, 75.0, 77.0, 74.0, 78.0, 82.0, 78.0, 78.0, 72.0, 76.0, 79.0, 73.0, 81.0, 78.0, 81.0, 82.0, 84.0, 81.0, 75.0, 79.0, 78.0, 81.0, 76.0, 75.0, 78.0, 79.0, 77.0, 78.0, 77.0, 82.0, 79.0, 84.0, 78.0, 72.0, 79.0, 80.0, 74.0, 83.0, 73.0, 77.0, 78.0, 73.0, 75.0, 86.0, 75.0, 74.0, 80.0, 75.0, 79.0, 77.0, 80.0, 79.0, 78.0, 80.0, 74.0, 76.0, 80.0, 74.0, 74.0, 79.0, 83.0, 82.0, 80.0, 74.0, 77.0, 79.0, 75.0, 79.0, 84.0, 72.0, 79.0, 79.0, 75.0, 73.0, 83.0, 79.0, 81.0, 80.0, 81.0, 73.0, 78.0, 75.0, 80.0, 82.0, 77.0, 77.0, 75.0, 79.0, 73.0, 73.0, 78.0, 70.0, 72.0, 79.0, 83.0, 83.0, 79.0, 72.0, 76.0, 82.0, 81.0, 79.0, 80.0, 69.0, 77.0, 75.0, 77.0, 77.0, 83.0, 72.0, 75.0, 79.0, 77.0, 81.0, 76.0, 77.0, 75.0, 79.0, 78.0, 75.0, 78.0, 80.0, 84.0, 78.0, 82.0, 73.0, 77.0, 75.0, 76.0, 77.0, 76.0, 77.0, 75.0, 77.0, 78.0, 78.0, 85.0, 80.0, 77.0, 80.0, 80.0, 75.0, 81.0, 81.0, 80.0, 78.0, 83.0, 81.0, 84.0, 84.0, 81.0, 85.0, 78.0, 76.0, 71.0, 72.0, 74.0, 78.0, 85.0, 77.0, 82.0, 82.0, 85.0, 80.0, 77.0, 75.0, 76.0, 78.0, 80.0, 75.0, 79.0, 79.0, 73.0, 75.0, 72.0, 79.0, 82.0, 80.0, 74.0, 75.0, 74.0, 83.0, 82.0, 76.0, 77.0, 82.0, 78.0, 77.0, 81.0, 75.0, 77.0, 74.0, 78.0, 74.0, 76.0, 82.0, 75.0, 83.0, 76.0, 79.0, 77.0, 76.0, 81.0, 76.0, 84.0, 71.0, 75.0, 74.0, 78.0, 78.0, 78.0, 77.0, 87.0, 74.0, 82.0, 79.0, 78.0, 75.0, 84.0, 74.0, 81.0, 82.0, 80.0, 79.0, 80.0, 73.0, 84.0, 76.0, 78.0, 78.0, 76.0, 83.0, 84.0, 74.0, 82.0, 78.0, 71.0, 84.0, 78.0, 72.0, 82.0, 77.0, 72.0, 75.0, 74.0, 80.0, 77.0, 81.0, 77.0, 73.0, 80.0, 75.0, 73.0, 77.0, 82.0, 77.0, 76.0, 76.0, 77.0, 74.0, 81.0, 75.0, 70.0, 81.0, 77.0, 75.0, 82.0, 80.0, 73.0, 74.0, 77.0, 80.0, 75.0, 81.0, 77.0, 73.0, 82.0, 77.0, 82.0, 82.0, 81.0, 78.0, 78.0, 78.0, 72.0, 77.0, 72.0, 83.0, 73.0, 81.0, 73.0, 79.0, 77.0, 79.0, 84.0, 73.0, 80.0, 83.0, 83.0, 73.0, 81.0, 81.0, 74.0, 76.0, 78.0, 78.0, 78.0, 81.0, 76.0, 77.0, 77.0, 76.0, 80.0, 84.0, 75.0, 72.0, 68.0, 70.0, 79.0, 77.0, 76.0, 82.0, 83.0, 76.0, 81.0, 82.0, 81.0, 82.0, 73.0, 73.0, 73.0, 79.0, 77.0, 78.0, 79.0, 81.0, 81.0, 75.0, 78.0, 80.0, 82.0, 76.0, 83.0, 82.0, 72.0, 81.0, 81.0, 72.0, 76.0, 84.0, 75.0, 77.0, 74.0, 75.0, 85.0, 75.0, 84.0, 77.0, 75.0, 83.0, 76.0, 83.0, 72.0, 78.0, 76.0, 80.0, 79.0, 78.0, 81.0, 76.0, 77.0, 77.0, 79.0, 73.0, 79.0, 84.0, 77.0, 82.0, 70.0, 80.0, 84.0, 75.0, 81.0, 82.0, 73.0, 82.0, 82.0, 81.0, 74.0, 75.0, 81.0, 75.0, 79.0, 75.0, 79.0, 79.0, 74.0, 83.0, 83.0, 80.0, 82.0, 76.0, 81.0, 79.0, 77.0, 81.0, 74.0, 80.0, 80.0, 78.0, 79.0, 78.0, 79.0, 75.0, 82.0, 79.0, 83.0, 76.0, 79.0, 78.0, 78.0, 81.0, 80.0, 78.0, 78.0, 80.0, 77.0, 83.0, 74.0, 77.0, 78.0, 81.0, 72.0, 79.0, 78.0, 83.0, 80.0, 77.0, 76.0, 73.0, 78.0, 82.0, 84.0, 80.0, 80.0, 74.0, 75.0, 78.0, 81.0, 76.0, 75.0, 81.0, 78.0, 73.0, 76.0, 78.0, 77.0, 81.0, 75.0, 74.0, 81.0, 80.0, 74.0, 71.0, 82.0, 75.0, 72.0, 79.0, 73.0, 77.0, 78.0, 76.0, 81.0, 80.0, 79.0, 74.0, 72.0, 80.0, 76.0, 77.0, 75.0, 79.0, 73.0, 82.0, 73.0]"
   ]
  },
  {
   "cell_type": "markdown",
   "metadata": {},
   "source": [
    "## Calculating the mean\n",
    "In order to calculate the standard deviations, we must first determine the mean. Luckily, NumPy has a function for this. All we have to do is assign a variable and provide the dataset as a paramater."
   ]
  },
  {
   "cell_type": "code",
   "execution_count": 3,
   "metadata": {},
   "outputs": [],
   "source": [
    "nba_mean = np.mean(nba_data)\n",
    "okcupid_mean = np.mean(okcupid_data)"
   ]
  },
  {
   "cell_type": "markdown",
   "metadata": {},
   "source": [
    "## Setting the given height\n",
    "Now let's set the given height by creating a variable and giving it a certain value. This is the height that we will use for comparison with the average heights of NBA players and OkCupid profiles. For now, I will set the height to 72 inches, which is 6 foot, but you can change the number to your own height for the comparison."
   ]
  },
  {
   "cell_type": "code",
   "execution_count": 4,
   "metadata": {},
   "outputs": [],
   "source": [
    "#Change this variable to your height (in inches)!\n",
    "your_height = 72"
   ]
  },
  {
   "cell_type": "markdown",
   "metadata": {},
   "source": [
    "## Calculating the standard deviation\n",
    "Luckily, NumPy also has a function for calculating the standard deviations. This function will give us 1 standard deviation, to get the next deviation we can simply multiply it by two."
   ]
  },
  {
   "cell_type": "code",
   "execution_count": 5,
   "metadata": {},
   "outputs": [],
   "source": [
    "nba_standard_deviation = np.std(nba_data)\n",
    "okcupid_standard_deviation = np.std(okcupid_data)"
   ]
  },
  {
   "cell_type": "markdown",
   "metadata": {},
   "source": [
    "## Creating the histogram for the NBA players\n",
    "As we will be creating two histograms, one for the heights of the NBA players, and one for the heights of the OkCupid profiles, we will have to make use of subplots. Subplots allow us to make multiple visualizations (bar graph, histogram, pie chart etc.) in one figure. If we don't create a subplot, the program is going to place all the lines on the same histogram. To make a subplot we use `plt.subplot()` and pass in a paramter that works the following way: The first number is the amount of rows we want to have in the figure. In this case, we want to have two rows because we want the histograms to be under each other. The second number is the amount of columns we want. In this case since we have only two histograms and we've decided to place them under each other, so we'll use one column. The last number is the position where to place the plot. Since we have two positions, two rows, one column, position one would be on top and position two below."
   ]
  },
  {
   "cell_type": "code",
   "execution_count": 6,
   "metadata": {},
   "outputs": [
    {
     "data": {
      "text/plain": [
       "Text(0.5, 0, 'Height (inches)')"
      ]
     },
     "execution_count": 6,
     "metadata": {},
     "output_type": "execute_result"
    },
    {
     "data": {
      "image/png": "[encoded data removed]",
      "text/plain": [
       "<Figure size 432x288 with 1 Axes>"
      ]
     },
     "metadata": {
      "needs_background": "light"
     },
     "output_type": "display_data"
    }
   ],
   "source": [
    "plt.subplot(212)\n",
    "plt.title(\"OkCupid Profile Heights\")\n",
    "plt.xlabel(\"Height (inches)\")"
   ]
  },
  {
   "cell_type": "markdown",
   "metadata": {},
   "source": [
    "Next, we'll use the `plt.hist()` function to plot the dataset of NBA heights as a histogram."
   ]
  },
  {
   "cell_type": "code",
   "execution_count": 7,
   "metadata": {},
   "outputs": [
    {
     "data": {
      "text/plain": [
       "(array([ 35., 153., 213., 362., 192.,  38.,   5.,   1.,   0.,   1.]),\n",
       " array([58. , 61.3, 64.6, 67.9, 71.2, 74.5, 77.8, 81.1, 84.4, 87.7, 91. ]),\n",
       " <BarContainer object of 10 artists>)"
      ]
     },
     "execution_count": 7,
     "metadata": {},
     "output_type": "execute_result"
    },
    {
     "data": {
      "image/png": "[encoded data removed]",
      "text/plain": [
       "<Figure size 432x288 with 1 Axes>"
      ]
     },
     "metadata": {
      "needs_background": "light"
     },
     "output_type": "display_data"
    }
   ],
   "source": [
    "plt.hist(okcupid_data)"
   ]
  },
  {
   "cell_type": "markdown",
   "metadata": {},
   "source": [
    "## Creating the mean and standard deviation lines on the histogram\n",
    "Next, we want to place some vertical lines to represent the position of the mean and the standard deviations on the histogram. We'll display the mean with a red vertical line and the standard deviations with yellow vertical lines. We can place vertical lines using the `plt.axvline()` function that takes in the `nba_mean` variable we created to know where to position the line on the X-axis."
   ]
  },
  {
   "cell_type": "code",
   "execution_count": 8,
   "metadata": {},
   "outputs": [
    {
     "data": {
      "text/plain": [
       "<matplotlib.lines.Line2D at 0x27bf492e040>"
      ]
     },
     "execution_count": 8,
     "metadata": {},
     "output_type": "execute_result"
    },
    {
     "data": {
      "image/png": "[encoded data removed]",
      "text/plain": [
       "<Figure size 432x288 with 1 Axes>"
      ]
     },
     "metadata": {
      "needs_background": "light"
     },
     "output_type": "display_data"
    }
   ],
   "source": [
    "# Creating the subplot\n",
    "plt.subplot(2,1,1)\n",
    "plt.title(\"NBA Player Heights\")\n",
    "plt.xlabel(\"Height (inches)\")\n",
    "\n",
    "# Creating the histogram\n",
    "plt.hist(nba_data)\n",
    "\n",
    "# Creating the vertical line for the mean\n",
    "plt.axvline(nba_mean, color='#FD4E40', label = \"Mean\")"
   ]
  },
  {
   "cell_type": "markdown",
   "metadata": {},
   "source": [
    "## Creating the standard deviation lines on the histogram\n",
    "Next, we want to represent the standard deviations using yellow vertical lines the same way as we did with the mean. We want a vertical line left and right of the mean for each standard deviation. Remember, the `plt.axvline` needs to have an X-value as parameter. The standard deviation variable `okcupid_standard_deviation` that we created before is based on the mean, therefore to get the right X-position for the lines we should add and subtract from the mean:"
   ]
  },
  {
   "cell_type": "code",
   "execution_count": 9,
   "metadata": {},
   "outputs": [
    {
     "data": {
      "text/plain": [
       "<matplotlib.lines.Line2D at 0x27bf4c48b20>"
      ]
     },
     "execution_count": 9,
     "metadata": {},
     "output_type": "execute_result"
    },
    {
     "data": {
      "image/png": "[encoded data removed]",
      "text/plain": [
       "<Figure size 432x288 with 1 Axes>"
      ]
     },
     "metadata": {
      "needs_background": "light"
     },
     "output_type": "display_data"
    }
   ],
   "source": [
    "# Creating the subplot\n",
    "plt.subplot(2,1,1)\n",
    "plt.title(\"NBA Player Heights\")\n",
    "plt.xlabel(\"Height (inches)\")\n",
    "\n",
    "# Creating the histogram\n",
    "plt.hist(nba_data)\n",
    "\n",
    "# Creating the vertical line for the mean\n",
    "plt.axvline(nba_mean, color='#FD4E40', label = \"Mean\")\n",
    "\n",
    "# Creating the vertical lines for the first standard deviation\n",
    "plt.axvline(nba_mean + nba_standard_deviation, color='#FFB908', label = \"Standard Deviations\")\n",
    "plt.axvline(nba_mean - nba_standard_deviation, color='#FFB908')"
   ]
  },
  {
   "cell_type": "markdown",
   "metadata": {},
   "source": [
    "Now, in order to get the second and third standard deviations we just multiply the `nba_standard deviation` variable by 2 or 3:"
   ]
  },
  {
   "cell_type": "code",
   "execution_count": 10,
   "metadata": {},
   "outputs": [
    {
     "data": {
      "text/plain": [
       "<matplotlib.lines.Line2D at 0x27bf4cf6ee0>"
      ]
     },
     "execution_count": 10,
     "metadata": {},
     "output_type": "execute_result"
    },
    {
     "data": {
      "image/png": "[encoded data removed]",
      "text/plain": [
       "<Figure size 432x288 with 1 Axes>"
      ]
     },
     "metadata": {
      "needs_background": "light"
     },
     "output_type": "display_data"
    }
   ],
   "source": [
    "# Creating the subplot\n",
    "plt.subplot(2,1,1)\n",
    "plt.title(\"NBA Player Heights\")\n",
    "plt.xlabel(\"Height (inches)\")\n",
    "\n",
    "# Creating the histogram\n",
    "plt.hist(nba_data)\n",
    "\n",
    "# Creating the vertical line for the mean\n",
    "plt.axvline(nba_mean, color='#FD4E40', label = \"Mean\")\n",
    "\n",
    "# Creating the vertical lines for the first standard deviation\n",
    "plt.axvline(nba_mean + nba_standard_deviation, color='#FFB908', label = \"Standard Deviations\")\n",
    "plt.axvline(nba_mean - nba_standard_deviation, color='#FFB908')\n",
    "\n",
    "# Creating the vertical lines for the second standard deviation\n",
    "plt.axvline(nba_mean + nba_standard_deviation * 2, color='#FFB908')\n",
    "plt.axvline(nba_mean - nba_standard_deviation * 2, color='#FFB908')\n",
    "\n",
    "# Creating the vertical lines for the third standard deviation\n",
    "plt.axvline(nba_mean + nba_standard_deviation * 3, color='#FFB908')\n",
    "plt.axvline(nba_mean - nba_standard_deviation * 3, color='#FFB908')"
   ]
  },
  {
   "cell_type": "markdown",
   "metadata": {},
   "source": [
    "## Creating the vertical line for the given height\n",
    "Finally, we want to create a line for the given height `your_height` variable. We'll pass in the variable as parameter to the `plt.axvline`, and give it a blue color:"
   ]
  },
  {
   "cell_type": "code",
   "execution_count": 11,
   "metadata": {},
   "outputs": [
    {
     "data": {
      "text/plain": [
       "<matplotlib.lines.Line2D at 0x27bf4d84190>"
      ]
     },
     "execution_count": 11,
     "metadata": {},
     "output_type": "execute_result"
    },
    {
     "data": {
      "image/png": "[encoded data removed]",
      "text/plain": [
       "<Figure size 432x288 with 1 Axes>"
      ]
     },
     "metadata": {
      "needs_background": "light"
     },
     "output_type": "display_data"
    }
   ],
   "source": [
    "# Creating the subplot\n",
    "plt.subplot(2,1,1)\n",
    "plt.title(\"NBA Player Heights\")\n",
    "plt.xlabel(\"Height (inches)\")\n",
    "\n",
    "# Creating the histogram\n",
    "plt.hist(nba_data)\n",
    "\n",
    "# Creating the vertical line for the mean\n",
    "plt.axvline(nba_mean, color='#FD4E40', label = \"Mean\")\n",
    "\n",
    "# Creating the vertical lines for the first standard deviation\n",
    "plt.axvline(nba_mean + nba_standard_deviation, color='#FFB908', label = \"Standard Deviations\")\n",
    "plt.axvline(nba_mean - nba_standard_deviation, color='#FFB908')\n",
    "\n",
    "# Creating the vertical lines for the second standard deviation\n",
    "plt.axvline(nba_mean + nba_standard_deviation * 2, color='#FFB908')\n",
    "plt.axvline(nba_mean - nba_standard_deviation * 2, color='#FFB908')\n",
    "\n",
    "# Creating the vertical lines for the third standard deviation\n",
    "plt.axvline(nba_mean + nba_standard_deviation * 3, color='#FFB908')\n",
    "plt.axvline(nba_mean - nba_standard_deviation * 3, color='#FFB908')\n",
    "\n",
    "# Creating the vertical line for the given height\n",
    "plt.axvline(your_height, color='#62EDBF', label = \"You\")"
   ]
  },
  {
   "cell_type": "markdown",
   "metadata": {},
   "source": [
    "## Creating the OkCupid histogram\n",
    "Creating the OkCupid histogram is the same as creating the NBA player histogram except we'll pass in the OkCupid dataset and use the OkCupid mean and standard deviation variables. Also note that the last number of the `plt.subplot()` parameter now has a 2, indicating it's the second position."
   ]
  },
  {
   "cell_type": "code",
   "execution_count": 12,
   "metadata": {},
   "outputs": [
    {
     "data": {
      "text/plain": [
       "<matplotlib.lines.Line2D at 0x27bf4e00e50>"
      ]
     },
     "execution_count": 12,
     "metadata": {},
     "output_type": "execute_result"
    },
    {
     "data": {
      "image/png": "[encoded data removed]",
      "text/plain": [
       "<Figure size 432x288 with 1 Axes>"
      ]
     },
     "metadata": {
      "needs_background": "light"
     },
     "output_type": "display_data"
    }
   ],
   "source": [
    "plt.subplot(2,1,2)\n",
    "plt.title(\"OkCupid Profile Heights\")\n",
    "plt.xlabel(\"Height (inches)\")\n",
    "\n",
    "plt.hist(okcupid_data)\n",
    "\n",
    "plt.axvline(okcupid_mean, color='#FD4E40', label = \"Mean\")\n",
    "\n",
    "plt.axvline(okcupid_mean + okcupid_standard_deviation, color='#FFB908', label = \"Standard Deviations\")\n",
    "plt.axvline(okcupid_mean - okcupid_standard_deviation, color='#FFB908')\n",
    "\n",
    "plt.axvline(okcupid_mean + okcupid_standard_deviation * 2, color='#FFB908')\n",
    "plt.axvline(okcupid_mean - okcupid_standard_deviation * 2, color='#FFB908')\n",
    "\n",
    "plt.axvline(okcupid_mean + okcupid_standard_deviation * 3, color='#FFB908')\n",
    "plt.axvline(okcupid_mean - okcupid_standard_deviation * 3, color='#FFB908')\n",
    "\n",
    "plt.axvline(your_height, color='#62EDBF', label = \"You\")"
   ]
  },
  {
   "cell_type": "markdown",
   "metadata": {},
   "source": [
    "## Setting the X-value limit and showing the legend\n",
    "Because the data is rather zoomed out we'll limit the range of the X-values to values between 55 and 90 using:"
   ]
  },
  {
   "cell_type": "code",
   "execution_count": 13,
   "metadata": {},
   "outputs": [
    {
     "data": {
      "text/plain": [
       "(55.0, 90.0)"
      ]
     },
     "execution_count": 13,
     "metadata": {},
     "output_type": "execute_result"
    },
    {
     "data": {
      "image/png": "[encoded data removed]",
      "text/plain": [
       "<Figure size 432x288 with 1 Axes>"
      ]
     },
     "metadata": {
      "needs_background": "light"
     },
     "output_type": "display_data"
    }
   ],
   "source": [
    "plt.xlim(55, 90)"
   ]
  },
  {
   "cell_type": "markdown",
   "metadata": {},
   "source": [
    "In order to display the labels of the vertical lines we have set during their creation, we can use `plt.legend()`"
   ]
  },
  {
   "cell_type": "code",
   "execution_count": 14,
   "metadata": {},
   "outputs": [
    {
     "name": "stderr",
     "output_type": "stream",
     "text": [
      "No handles with labels found to put in legend.\n"
     ]
    },
    {
     "data": {
      "text/plain": [
       "<matplotlib.legend.Legend at 0x27bf4c3f5b0>"
      ]
     },
     "execution_count": 14,
     "metadata": {},
     "output_type": "execute_result"
    },
    {
     "data": {
      "image/png": "[encoded data removed]",
      "text/plain": [
       "<Figure size 432x288 with 1 Axes>"
      ]
     },
     "metadata": {
      "needs_background": "light"
     },
     "output_type": "display_data"
    }
   ],
   "source": [
    "plt.legend()"
   ]
  },
  {
   "cell_type": "markdown",
   "metadata": {},
   "source": [
    "## Combining both subplots"
   ]
  },
  {
   "cell_type": "markdown",
   "metadata": {},
   "source": [
    "If you have already tried adding both code segments for each subplot you'll have noticed they are too close together. They overlap. To fix this we can use the following layout:"
   ]
  },
  {
   "cell_type": "code",
   "execution_count": 15,
   "metadata": {},
   "outputs": [
    {
     "data": {
      "text/plain": [
       "<Figure size 432x288 with 0 Axes>"
      ]
     },
     "metadata": {},
     "output_type": "display_data"
    }
   ],
   "source": [
    "plt.tight_layout()\n",
    "plt.show()"
   ]
  },
  {
   "cell_type": "markdown",
   "metadata": {},
   "source": [
    "## Printing the standard deviation\n",
    "Finally, in order to get the exact number of how far away the given height is away from the mean of both datasets, we'll print it."
   ]
  },
  {
   "cell_type": "code",
   "execution_count": 16,
   "metadata": {},
   "outputs": [
    {
     "name": "stdout",
     "output_type": "stream",
     "text": [
      "Your height is -1.6393755175252853 standard deviations away from the mean of NBA player heights\n",
      "\n",
      "Your height is 0.9137794948514516 standard deviations away from the mean of OkCupid profile heights\n"
     ]
    }
   ],
   "source": [
    "# Calculating the difference\n",
    "nba_difference = 72 - nba_mean\n",
    "okcupid_difference = 72 - okcupid_mean\n",
    "\n",
    "#Using the difference between the point and the mean to find how many standard deviations the given height is away from the mean.\n",
    "num_nba_deviations = nba_difference / nba_standard_deviation\n",
    "num_okcupid_deviations = okcupid_difference / okcupid_standard_deviation\n",
    "\n",
    "# Printing the results\n",
    "print(\"Your height is \" + str(num_nba_deviations) + \" standard deviations away from the mean of NBA player heights\\n\")\n",
    "print(\"Your height is \" + str(num_okcupid_deviations) + \" standard deviations away from the mean of OkCupid profile heights\")"
   ]
  },
  {
   "cell_type": "markdown",
   "metadata": {},
   "source": [
    "# Full Code"
   ]
  },
  {
   "cell_type": "code",
   "execution_count": 18,
   "metadata": {},
   "outputs": [
    {
     "data": {
      "image/png": "[encoded data removed]",
      "text/plain": [
       "<Figure size 432x288 with 2 Axes>"
      ]
     },
     "metadata": {
      "needs_background": "light"
     },
     "output_type": "display_data"
    },
    {
     "name": "stdout",
     "output_type": "stream",
     "text": [
      "Your height is -1.6393755175252853 standard deviations away from the mean of NBA player heights\n",
      "\n",
      "Your height is 0.9137794948514516 standard deviations away from the mean of OkCupid profile heights\n"
     ]
    }
   ],
   "source": [
    "import matplotlib.pyplot as plt\n",
    "import numpy as np\n",
    "\n",
    "okcupid_data = [75.0, 70.0, 68.0, 71.0, 66.0, 67.0, 65.0, 65.0, 67.0, 65.0, 70.0, 72.0, 72.0, 66.0, 62.0, 65.0, 70.0, 64.0, 71.0, 72.0, 67.0, 67.0, 69.0, 71.0, 73.0, 70.0, 72.0, 67.0, 74.0, 68.0, 64.0, 72.0, 67.0, 60.0, 69.0, 69.0, 69.0, 69.0, 63.0, 74.0, 76.0, 72.0, 75.0, 71.0, 66.0, 69.0, 73.0, 70.0, 67.0, 66.0, 66.0, 65.0, 69.0, 69.0, 69.0, 70.0, 71.0, 72.0, 70.0, 71.0, 67.0, 75.0, 70.0, 67.0, 72.0, 68.0, 65.0, 66.0, 69.0, 76.0, 62.0, 67.0, 73.0, 61.0, 72.0, 67.0, 72.0, 65.0, 67.0, 71.0, 67.0, 69.0, 69.0, 64.0, 73.0, 68.0, 66.0, 61.0, 71.0, 64.0, 74.0, 74.0, 67.0, 69.0, 67.0, 78.0, 75.0, 70.0, 66.0, 72.0, 71.0, 68.0, 69.0, 70.0, 63.0, 65.0, 64.0, 72.0, 64.0, 66.0, 68.0, 71.0, 74.0, 66.0, 70.0, 72.0, 68.0, 67.0, 65.0, 66.0, 71.0, 75.0, 66.0, 70.0, 62.0, 68.0, 73.0, 68.0, 71.0, 66.0, 69.0, 68.0, 68.0, 68.0, 68.0, 67.0, 75.0, 73.0, 67.0, 73.0, 62.0, 73.0, 73.0, 74.0, 63.0, 67.0, 70.0, 66.0, 64.0, 67.0, 63.0, 68.0, 68.0, 75.0, 73.0, 61.0, 62.0, 68.0, 69.0, 63.0, 62.0, 66.0, 66.0, 66.0, 72.0, 74.0, 72.0, 63.0, 68.0, 66.0, 66.0, 70.0, 73.0, 63.0, 69.0, 66.0, 68.0, 72.0, 68.0, 71.0, 69.0, 66.0, 68.0, 70.0, 74.0, 63.0, 66.0, 60.0, 67.0, 79.0, 61.0, 69.0, 69.0, 67.0, 71.0, 63.0, 67.0, 63.0, 64.0, 62.0, 65.0, 67.0, 66.0, 63.0, 63.0, 69.0, 71.0, 69.0, 67.0, 66.0, 62.0, 72.0, 69.0, 69.0, 59.0, 74.0, 70.0, 65.0, 70.0, 66.0, 70.0, 64.0, 69.0, 63.0, 62.0, 68.0, 71.0, 71.0, 69.0, 70.0, 72.0, 66.0, 65.0, 65.0, 68.0, 68.0, 62.0, 72.0, 63.0, 73.0, 67.0, 65.0, 69.0, 80.0, 61.0, 63.0, 73.0, 63.0, 71.0, 62.0, 68.0, 72.0, 65.0, 67.0, 67.0, 68.0, 67.0, 67.0, 62.0, 63.0, 64.0, 72.0, 62.0, 66.0, 67.0, 62.0, 69.0, 69.0, 64.0, 62.0, 70.0, 64.0, 63.0, 67.0, 68.0, 67.0, 65.0, 67.0, 64.0, 71.0, 80.0, 60.0, 71.0, 69.0, 67.0, 64.0, 62.0, 63.0, 61.0, 69.0, 76.0, 70.0, 72.0, 63.0, 69.0, 72.0, 70.0, 73.0, 62.0, 62.0, 72.0, 66.0, 65.0, 70.0, 71.0, 71.0, 64.0, 63.0, 75.0, 70.0, 73.0, 68.0, 69.0, 64.0, 68.0, 68.0, 74.0, 61.0, 66.0, 62.0, 67.0, 72.0, 67.0, 64.0, 68.0, 63.0, 69.0, 68.0, 65.0, 66.0, 62.0, 72.0, 70.0, 69.0, 64.0, 63.0, 60.0, 65.0, 67.0, 72.0, 71.0, 73.0, 68.0, 62.0, 69.0, 71.0, 66.0, 72.0, 68.0, 73.0, 67.0, 75.0, 74.0, 74.0, 68.0, 64.0, 75.0, 63.0, 65.0, 72.0, 68.0, 69.0, 73.0, 70.0, 69.0, 73.0, 69.0, 71.0, 73.0, 63.0, 67.0, 64.0, 71.0, 72.0, 74.0, 72.0, 71.0, 64.0, 66.0, 74.0, 68.0, 70.0, 68.0, 76.0, 72.0, 70.0, 67.0, 64.0, 68.0, 66.0, 69.0, 72.0, 61.0, 74.0, 64.0, 66.0, 73.0, 76.0, 71.0, 69.0, 71.0, 71.0, 91.0, 74.0, 62.0, 67.0, 62.0, 71.0, 70.0, 72.0, 72.0, 64.0, 72.0, 68.0, 68.0, 71.0, 66.0, 67.0, 68.0, 61.0, 73.0, 71.0, 71.0, 64.0, 72.0, 67.0, 65.0, 74.0, 68.0, 61.0, 71.0, 67.0, 65.0, 79.0, 61.0, 66.0, 76.0, 69.0, 70.0, 65.0, 72.0, 71.0, 71.0, 62.0, 70.0, 72.0, 70.0, 69.0, 71.0, 70.0, 65.0, 64.0, 68.0, 68.0, 67.0, 64.0, 72.0, 61.0, 64.0, 72.0, 64.0, 70.0, 63.0, 72.0, 66.0, 65.0, 64.0, 65.0, 64.0, 64.0, 63.0, 63.0, 66.0, 70.0, 70.0, 67.0, 70.0, 68.0, 73.0, 64.0, 64.0, 71.0, 71.0, 62.0, 67.0, 67.0, 70.0, 66.0, 72.0, 70.0, 72.0, 66.0, 63.0, 70.0, 71.0, 68.0, 64.0, 70.0, 68.0, 69.0, 74.0, 72.0, 75.0, 65.0, 73.0, 69.0, 62.0, 64.0, 68.0, 70.0, 67.0, 72.0, 69.0, 68.0, 71.0, 72.0, 68.0, 72.0, 75.0, 67.0, 68.0, 67.0, 73.0, 72.0, 76.0, 68.0, 72.0, 67.0, 66.0, 71.0, 69.0, 64.0, 75.0, 69.0, 67.0, 70.0, 71.0, 74.0, 69.0, 68.0, 60.0, 68.0, 70.0, 70.0, 60.0, 67.0, 83.0, 70.0, 59.0, 71.0, 77.0, 69.0, 76.0, 71.0, 68.0, 70.0, 70.0, 62.0, 70.0, 66.0, 72.0, 73.0, 68.0, 72.0, 66.0, 70.0, 68.0, 76.0, 67.0, 68.0, 74.0, 67.0, 60.0, 70.0, 63.0, 68.0, 71.0, 73.0, 72.0, 68.0, 77.0, 73.0, 68.0, 66.0, 65.0, 69.0, 71.0, 61.0, 68.0, 63.0, 63.0, 72.0, 66.0, 64.0, 63.0, 68.0, 69.0, 67.0, 63.0, 74.0, 68.0, 67.0, 67.0, 63.0, 64.0, 67.0, 72.0, 72.0, 65.0, 68.0, 69.0, 69.0, 74.0, 73.0, 72.0, 63.0, 68.0, 68.0, 75.0, 73.0, 68.0, 67.0, 73.0, 64.0, 71.0, 64.0, 63.0, 71.0, 64.0, 74.0, 69.0, 73.0, 71.0, 73.0, 74.0, 68.0, 64.0, 65.0, 74.0, 64.0, 70.0, 75.0, 61.0, 70.0, 70.0, 63.0, 71.0, 62.0, 70.0, 69.0, 68.0, 71.0, 61.0, 69.0, 68.0, 71.0, 71.0, 72.0, 69.0, 66.0, 70.0, 70.0, 73.0, 73.0, 69.0, 67.0, 69.0, 68.0, 67.0, 70.0, 70.0, 62.0, 64.0, 69.0, 68.0, 68.0, 70.0, 68.0, 67.0, 63.0, 66.0, 70.0, 72.0, 70.0, 75.0, 71.0, 63.0, 71.0, 72.0, 76.0, 68.0, 70.0, 73.0, 70.0, 68.0, 67.0, 69.0, 72.0, 74.0, 64.0, 63.0, 67.0, 67.0, 72.0, 74.0, 72.0, 65.0, 62.0, 69.0, 73.0, 70.0, 67.0, 69.0, 72.0, 74.0, 67.0, 72.0, 70.0, 64.0, 74.0, 73.0, 65.0, 70.0, 64.0, 62.0, 64.0, 67.0, 74.0, 67.0, 68.0, 64.0, 73.0, 66.0, 72.0, 69.0, 62.0, 69.0, 75.0, 68.0, 64.0, 70.0, 69.0, 76.0, 73.0, 60.0, 70.0, 64.0, 64.0, 71.0, 68.0, 70.0, 71.0, 69.0, 68.0, 64.0, 72.0, 73.0, 69.0, 69.0, 67.0, 65.0, 69.0, 69.0, 72.0, 68.0, 74.0, 75.0, 68.0, 73.0, 60.0, 73.0, 69.0, 70.0, 68.0, 71.0, 72.0, 71.0, 74.0, 68.0, 68.0, 70.0, 60.0, 70.0, 74.0, 68.0, 72.0, 71.0, 69.0, 69.0, 64.0, 65.0, 76.0, 74.0, 70.0, 70.0, 73.0, 63.0, 71.0, 66.0, 74.0, 69.0, 67.0, 64.0, 73.0, 69.0, 68.0, 72.0, 68.0, 68.0, 68.0, 64.0, 66.0, 64.0, 72.0, 70.0, 65.0, 67.0, 73.0, 76.0, 68.0, 70.0, 71.0, 68.0, 70.0, 72.0, 74.0, 67.0, 70.0, 71.0, 72.0, 68.0, 71.0, 72.0, 70.0, 65.0, 72.0, 68.0, 72.0, 63.0, 69.0, 75.0, 66.0, 72.0, 70.0, 74.0, 72.0, 68.0, 69.0, 65.0, 71.0, 64.0, 72.0, 70.0, 70.0, 69.0, 67.0, 64.0, 68.0, 73.0, 66.0, 61.0, 76.0, 75.0, 72.0, 70.0, 66.0, 69.0, 63.0, 66.0, 68.0, 73.0, 73.0, 64.0, 68.0, 68.0, 67.0, 67.0, 70.0, 63.0, 72.0, 72.0, 67.0, 66.0, 63.0, 73.0, 65.0, 76.0, 66.0, 74.0, 65.0, 71.0, 68.0, 70.0, 62.0, 65.0, 67.0, 64.0, 62.0, 66.0, 70.0, 66.0, 67.0, 72.0, 67.0, 73.0, 65.0, 72.0, 66.0, 67.0, 58.0, 62.0, 69.0, 72.0, 67.0, 70.0, 64.0, 70.0, 66.0, 70.0, 64.0, 70.0, 66.0, 69.0, 73.0, 65.0, 66.0, 72.0, 66.0, 61.0, 67.0, 74.0, 64.0, 74.0, 67.0, 68.0, 70.0, 65.0, 71.0, 64.0, 67.0, 64.0, 66.0, 71.0, 67.0, 73.0, 66.0, 74.0, 67.0, 66.0, 71.0, 69.0, 71.0, 68.0, 61.0, 75.0, 66.0, 74.0, 69.0, 62.0, 65.0, 60.0, 74.0, 68.0, 64.0, 73.0, 64.0, 67.0, 73.0, 66.0, 60.0, 70.0, 69.0, 67.0, 72.0, 71.0, 65.0, 72.0, 65.0, 71.0, 66.0, 69.0, 66.0, 74.0, 73.0, 64.0, 64.0, 70.0, 66.0, 74.0, 66.0, 66.0, 68.0, 61.0, 68.0, 72.0, 72.0, 67.0, 59.0, 68.0, 65.0]\n",
    "\n",
    "nba_data = [82.0, 81.0, 86.0, 73.0, 78.0, 81.0, 79.0, 75.0, 75.0, 78.0, 77.0, 72.0, 83.0, 78.0, 79.0, 81.0, 78.0, 77.0, 76.0, 77.0, 70.0, 84.0, 79.0, 82.0, 73.0, 79.0, 77.0, 77.0, 78.0, 74.0, 76.0, 79.0, 86.0, 82.0, 71.0, 85.0, 80.0, 81.0, 82.0, 83.0, 83.0, 83.0, 80.0, 73.0, 77.0, 79.0, 80.0, 81.0, 74.0, 80.0, 81.0, 82.0, 76.0, 75.0, 81.0, 74.0, 82.0, 80.0, 77.0, 76.0, 78.0, 78.0, 83.0, 81.0, 78.0, 83.0, 74.0, 82.0, 82.0, 80.0, 81.0, 81.0, 75.0, 82.0, 83.0, 78.0, 74.0, 78.0, 74.0, 82.0, 74.0, 77.0, 75.0, 81.0, 82.0, 80.0, 78.0, 77.0, 78.0, 72.0, 79.0, 81.0, 71.0, 78.0, 82.0, 79.0, 82.0, 78.0, 79.0, 79.0, 86.0, 79.0, 82.0, 79.0, 84.0, 83.0, 79.0, 80.0, 72.0, 81.0, 83.0, 80.0, 73.0, 83.0, 76.0, 83.0, 73.0, 75.0, 80.0, 75.0, 80.0, 76.0, 81.0, 74.0, 80.0, 77.0, 71.0, 72.0, 83.0, 75.0, 77.0, 74.0, 77.0, 74.0, 81.0, 76.0, 79.0, 84.0, 78.0, 79.0, 74.0, 74.0, 71.0, 72.0, 70.0, 80.0, 72.0, 82.0, 82.0, 72.0, 81.0, 81.0, 73.0, 74.0, 82.0, 82.0, 81.0, 77.0, 77.0, 81.0, 84.0, 74.0, 78.0, 75.0, 76.0, 85.0, 72.0, 84.0, 77.0, 81.0, 83.0, 78.0, 81.0, 81.0, 73.0, 73.0, 72.0, 76.0, 83.0, 76.0, 80.0, 80.0, 78.0, 79.0, 76.0, 79.0, 74.0, 82.0, 81.0, 81.0, 78.0, 75.0, 77.0, 72.0, 84.0, 74.0, 83.0, 78.0, 73.0, 78.0, 80.0, 75.0, 80.0, 80.0, 79.0, 76.0, 76.0, 75.0, 73.0, 76.0, 76.0, 75.0, 75.0, 76.0, 70.0, 75.0, 74.0, 84.0, 71.0, 78.0, 77.0, 76.0, 79.0, 77.0, 84.0, 78.0, 77.0, 79.0, 80.0, 80.0, 81.0, 83.0, 76.0, 82.0, 80.0, 83.0, 80.0, 74.0, 78.0, 82.0, 76.0, 80.0, 77.0, 70.0, 80.0, 75.0, 77.0, 78.0, 82.0, 74.0, 77.0, 75.0, 77.0, 81.0, 75.0, 70.0, 77.0, 82.0, 81.0, 77.0, 81.0, 81.0, 72.0, 81.0, 73.0, 76.0, 79.0, 73.0, 79.0, 84.0, 78.0, 81.0, 79.0, 77.0, 75.0, 77.0, 81.0, 77.0, 73.0, 72.0, 83.0, 78.0, 75.0, 76.0, 85.0, 83.0, 80.0, 84.0, 78.0, 80.0, 72.0, 78.0, 79.0, 75.0, 72.0, 79.0, 80.0, 83.0, 82.0, 81.0, 71.0, 80.0, 80.0, 80.0, 80.0, 82.0, 71.0, 71.0, 73.0, 89.0, 74.0, 75.0, 71.0, 73.0, 73.0, 73.0, 83.0, 79.0, 79.0, 81.0, 75.0, 75.0, 80.0, 81.0, 78.0, 78.0, 81.0, 75.0, 75.0, 81.0, 82.0, 85.0, 77.0, 77.0, 81.0, 82.0, 78.0, 78.0, 78.0, 72.0, 76.0, 79.0, 75.0, 76.0, 72.0, 73.0, 76.0, 79.0, 83.0, 72.0, 73.0, 74.0, 81.0, 78.0, 81.0, 84.0, 76.0, 76.0, 72.0, 76.0, 76.0, 84.0, 77.0, 78.0, 80.0, 63.0, 84.0, 81.0, 91.0, 77.0, 81.0, 76.0, 80.0, 74.0, 77.0, 76.0, 77.0, 80.0, 82.0, 82.0, 78.0, 73.0, 80.0, 82.0, 74.0, 83.0, 78.0, 80.0, 81.0, 84.0, 77.0, 80.0, 80.0, 77.0, 83.0, 79.0, 80.0, 81.0, 84.0, 76.0, 82.0, 79.0, 79.0, 80.0, 78.0, 85.0, 82.0, 77.0, 82.0, 77.0, 73.0, 74.0, 77.0, 65.0, 82.0, 78.0, 78.0, 73.0, 82.0, 80.0, 78.0, 78.0, 74.0, 71.0, 77.0, 77.0, 78.0, 80.0, 75.0, 82.0, 90.0, 83.0, 82.0, 80.0, 80.0, 82.0, 79.0, 80.0, 71.0, 77.0, 82.0, 79.0, 73.0, 74.0, 77.0, 79.0, 74.0, 78.0, 75.0, 87.0, 81.0, 76.0, 81.0, 76.0, 79.0, 86.0, 73.0, 81.0, 77.0, 78.0, 74.0, 76.0, 77.0, 79.0, 76.0, 74.0, 84.0, 76.0, 79.0, 76.0, 77.0, 76.0, 76.0, 76.0, 72.0, 78.0, 78.0, 77.0, 79.0, 71.0, 81.0, 79.0, 76.0, 74.0, 79.0, 81.0, 74.0, 73.0, 72.0, 79.0, 77.0, 84.0, 75.0, 78.0, 76.0, 72.0, 76.0, 79.0, 79.0, 79.0, 83.0, 69.0, 75.0, 83.0, 77.0, 75.0, 75.0, 81.0, 75.0, 83.0, 74.0, 80.0, 82.0, 77.0, 83.0, 76.0, 75.0, 77.0, 74.0, 78.0, 82.0, 78.0, 78.0, 72.0, 76.0, 79.0, 73.0, 81.0, 78.0, 81.0, 82.0, 84.0, 81.0, 75.0, 79.0, 78.0, 81.0, 76.0, 75.0, 78.0, 79.0, 77.0, 78.0, 77.0, 82.0, 79.0, 84.0, 78.0, 72.0, 79.0, 80.0, 74.0, 83.0, 73.0, 77.0, 78.0, 73.0, 75.0, 86.0, 75.0, 74.0, 80.0, 75.0, 79.0, 77.0, 80.0, 79.0, 78.0, 80.0, 74.0, 76.0, 80.0, 74.0, 74.0, 79.0, 83.0, 82.0, 80.0, 74.0, 77.0, 79.0, 75.0, 79.0, 84.0, 72.0, 79.0, 79.0, 75.0, 73.0, 83.0, 79.0, 81.0, 80.0, 81.0, 73.0, 78.0, 75.0, 80.0, 82.0, 77.0, 77.0, 75.0, 79.0, 73.0, 73.0, 78.0, 70.0, 72.0, 79.0, 83.0, 83.0, 79.0, 72.0, 76.0, 82.0, 81.0, 79.0, 80.0, 69.0, 77.0, 75.0, 77.0, 77.0, 83.0, 72.0, 75.0, 79.0, 77.0, 81.0, 76.0, 77.0, 75.0, 79.0, 78.0, 75.0, 78.0, 80.0, 84.0, 78.0, 82.0, 73.0, 77.0, 75.0, 76.0, 77.0, 76.0, 77.0, 75.0, 77.0, 78.0, 78.0, 85.0, 80.0, 77.0, 80.0, 80.0, 75.0, 81.0, 81.0, 80.0, 78.0, 83.0, 81.0, 84.0, 84.0, 81.0, 85.0, 78.0, 76.0, 71.0, 72.0, 74.0, 78.0, 85.0, 77.0, 82.0, 82.0, 85.0, 80.0, 77.0, 75.0, 76.0, 78.0, 80.0, 75.0, 79.0, 79.0, 73.0, 75.0, 72.0, 79.0, 82.0, 80.0, 74.0, 75.0, 74.0, 83.0, 82.0, 76.0, 77.0, 82.0, 78.0, 77.0, 81.0, 75.0, 77.0, 74.0, 78.0, 74.0, 76.0, 82.0, 75.0, 83.0, 76.0, 79.0, 77.0, 76.0, 81.0, 76.0, 84.0, 71.0, 75.0, 74.0, 78.0, 78.0, 78.0, 77.0, 87.0, 74.0, 82.0, 79.0, 78.0, 75.0, 84.0, 74.0, 81.0, 82.0, 80.0, 79.0, 80.0, 73.0, 84.0, 76.0, 78.0, 78.0, 76.0, 83.0, 84.0, 74.0, 82.0, 78.0, 71.0, 84.0, 78.0, 72.0, 82.0, 77.0, 72.0, 75.0, 74.0, 80.0, 77.0, 81.0, 77.0, 73.0, 80.0, 75.0, 73.0, 77.0, 82.0, 77.0, 76.0, 76.0, 77.0, 74.0, 81.0, 75.0, 70.0, 81.0, 77.0, 75.0, 82.0, 80.0, 73.0, 74.0, 77.0, 80.0, 75.0, 81.0, 77.0, 73.0, 82.0, 77.0, 82.0, 82.0, 81.0, 78.0, 78.0, 78.0, 72.0, 77.0, 72.0, 83.0, 73.0, 81.0, 73.0, 79.0, 77.0, 79.0, 84.0, 73.0, 80.0, 83.0, 83.0, 73.0, 81.0, 81.0, 74.0, 76.0, 78.0, 78.0, 78.0, 81.0, 76.0, 77.0, 77.0, 76.0, 80.0, 84.0, 75.0, 72.0, 68.0, 70.0, 79.0, 77.0, 76.0, 82.0, 83.0, 76.0, 81.0, 82.0, 81.0, 82.0, 73.0, 73.0, 73.0, 79.0, 77.0, 78.0, 79.0, 81.0, 81.0, 75.0, 78.0, 80.0, 82.0, 76.0, 83.0, 82.0, 72.0, 81.0, 81.0, 72.0, 76.0, 84.0, 75.0, 77.0, 74.0, 75.0, 85.0, 75.0, 84.0, 77.0, 75.0, 83.0, 76.0, 83.0, 72.0, 78.0, 76.0, 80.0, 79.0, 78.0, 81.0, 76.0, 77.0, 77.0, 79.0, 73.0, 79.0, 84.0, 77.0, 82.0, 70.0, 80.0, 84.0, 75.0, 81.0, 82.0, 73.0, 82.0, 82.0, 81.0, 74.0, 75.0, 81.0, 75.0, 79.0, 75.0, 79.0, 79.0, 74.0, 83.0, 83.0, 80.0, 82.0, 76.0, 81.0, 79.0, 77.0, 81.0, 74.0, 80.0, 80.0, 78.0, 79.0, 78.0, 79.0, 75.0, 82.0, 79.0, 83.0, 76.0, 79.0, 78.0, 78.0, 81.0, 80.0, 78.0, 78.0, 80.0, 77.0, 83.0, 74.0, 77.0, 78.0, 81.0, 72.0, 79.0, 78.0, 83.0, 80.0, 77.0, 76.0, 73.0, 78.0, 82.0, 84.0, 80.0, 80.0, 74.0, 75.0, 78.0, 81.0, 76.0, 75.0, 81.0, 78.0, 73.0, 76.0, 78.0, 77.0, 81.0, 75.0, 74.0, 81.0, 80.0, 74.0, 71.0, 82.0, 75.0, 72.0, 79.0, 73.0, 77.0, 78.0, 76.0, 81.0, 80.0, 79.0, 74.0, 72.0, 80.0, 76.0, 77.0, 75.0, 79.0, 73.0, 82.0, 73.0]\n",
    "\n",
    "nba_mean = np.mean(nba_data)\n",
    "okcupid_mean = np.mean(okcupid_data)\n",
    "\n",
    "#Change this variable to your height (in inches)!\n",
    "your_height = 72\n",
    "\n",
    "nba_standard_deviation = np.std(nba_data)\n",
    "okcupid_standard_deviation = np.std(okcupid_data)\n",
    "\n",
    "plt.subplot(2,1,1)\n",
    "plt.title(\"NBA Player Heights\")\n",
    "plt.xlabel(\"Height (inches)\")\n",
    "\n",
    "plt.hist(nba_data)\n",
    "\n",
    "plt.axvline(nba_mean, color='#FD4E40', label = \"Mean\")\n",
    "\n",
    "plt.axvline(nba_mean + nba_standard_deviation, color='#FFB908', label = \"Standard Deviations\")\n",
    "plt.axvline(nba_mean - nba_standard_deviation, color='#FFB908')\n",
    "\n",
    "plt.axvline(nba_mean + nba_standard_deviation * 2, color='#FFB908')\n",
    "plt.axvline(nba_mean - nba_standard_deviation * 2, color='#FFB908')\n",
    "\n",
    "plt.axvline(nba_mean + nba_standard_deviation * 3, color='#FFB908')\n",
    "plt.axvline(nba_mean - nba_standard_deviation * 3, color='#FFB908')\n",
    "\n",
    "plt.axvline(your_height, color='#62EDBF', label = \"You\")\n",
    "\n",
    "plt.xlim(55, 90)\n",
    "plt.legend()\n",
    "\n",
    "\n",
    "plt.subplot(2,1,2)\n",
    "plt.title(\"OkCupid Profile Heights\")\n",
    "plt.xlabel(\"Height (inches)\")\n",
    "\n",
    "plt.hist(okcupid_data)\n",
    "\n",
    "plt.axvline(okcupid_mean, color='#FD4E40', label = \"Mean\")\n",
    "\n",
    "plt.axvline(okcupid_mean + okcupid_standard_deviation, color='#FFB908', label = \"Standard Deviations\")\n",
    "plt.axvline(okcupid_mean - okcupid_standard_deviation, color='#FFB908')\n",
    "\n",
    "plt.axvline(okcupid_mean + okcupid_standard_deviation * 2, color='#FFB908')\n",
    "plt.axvline(okcupid_mean - okcupid_standard_deviation * 2, color='#FFB908')\n",
    "\n",
    "plt.axvline(okcupid_mean + okcupid_standard_deviation * 3, color='#FFB908')\n",
    "plt.axvline(okcupid_mean - okcupid_standard_deviation * 3, color='#FFB908')\n",
    "\n",
    "plt.axvline(your_height, color='#62EDBF', label = \"You\")\n",
    "\n",
    "plt.xlim(55, 90)\n",
    "plt.legend()\n",
    "\n",
    "\n",
    "\n",
    "\n",
    "plt.tight_layout()\n",
    "plt.show()\n",
    "\n",
    "\n",
    "\n",
    "nba_difference = 72 - nba_mean\n",
    "okcupid_difference = 72 - okcupid_mean\n",
    "\n",
    "\n",
    "num_nba_deviations = nba_difference / nba_standard_deviation\n",
    "num_okcupid_deviations = okcupid_difference / okcupid_standard_deviation\n",
    "\n",
    "\n",
    "print(\"Your height is \" + str(num_nba_deviations) + \" standard deviations away from the mean of NBA player heights\\n\")\n",
    "print(\"Your height is \" + str(num_okcupid_deviations) + \" standard deviations away from the mean of OkCupid profile heights\")\n"
   ]
  },
  {
   "cell_type": "code",
   "execution_count": null,
   "metadata": {},
   "outputs": [],
   "source": []
  }
 ],
 "metadata": {
  "kernelspec": {
   "display_name": "Python 3",
   "language": "python",
   "name": "python3"
  },
  "language_info": {
   "codemirror_mode": {
    "name": "ipython",
    "version": 3
   },
   "file_extension": ".py",
   "mimetype": "text/x-python",
   "name": "python",
   "nbconvert_exporter": "python",
   "pygments_lexer": "ipython3",
   "version": "3.8.5"
  }
 },
 "nbformat": 4,
 "nbformat_minor": 4
}
